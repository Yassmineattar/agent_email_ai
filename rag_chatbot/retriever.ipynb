{
 "cells": [
  {
   "cell_type": "code",
   "execution_count": 2,
   "id": "9ec71c60",
   "metadata": {},
   "outputs": [
    {
     "name": "stderr",
     "output_type": "stream",
     "text": [
      "c:\\Users\\Yassmine\\Documents\\agent_email_ai\\.venv\\Lib\\site-packages\\tqdm\\auto.py:21: TqdmWarning: IProgress not found. Please update jupyter and ipywidgets. See https://ipywidgets.readthedocs.io/en/stable/user_install.html\n",
      "  from .autonotebook import tqdm as notebook_tqdm\n"
     ]
    }
   ],
   "source": [
    "import faiss\n",
    "import numpy as np\n",
    "from sentence_transformers import SentenceTransformer\n",
    "import pickle"
   ]
  },
  {
   "cell_type": "code",
   "execution_count": 3,
   "id": "1e4bdfbc",
   "metadata": {},
   "outputs": [],
   "source": [
    "# Charger le modèle d'encodage sémantique\n",
    "model = SentenceTransformer(\"all-MiniLM-L6-v2\")\n",
    "\n",
    "# Charger l'index FAISS\n",
    "index = faiss.read_index(\"../db/faiss_index.index\")\n",
    "\n",
    "# Charger les métadonnées\n",
    "with open(\"../db/metadata.pkl\", \"rb\") as f:\n",
    "    metadata = pickle.load(f)\n"
   ]
  },
  {
   "cell_type": "code",
   "execution_count": 4,
   "id": "0d52d745",
   "metadata": {},
   "outputs": [],
   "source": [
    "def search(query: str, k: int = 3):\n",
    "    # Encoder la requête\n",
    "    query_embedding = model.encode([query])\n",
    "    \n",
    "    # Recherche dans l'index\n",
    "    distances, indices = index.search(query_embedding, k)\n",
    "\n",
    "    return distances[0], indices[0]\n"
   ]
  },
  {
   "cell_type": "code",
   "execution_count": 8,
   "id": "92d878c4",
   "metadata": {},
   "outputs": [
    {
     "name": "stdout",
     "output_type": "stream",
     "text": [
      "\n",
      "Index FAISS: 3 - Distance: 0.8580306768417358\n",
      "UID: 403\n",
      "Logiciel: Docubase\n",
      "Problème: Comment générer un rapport\n",
      "Solution: Aller dans 'rapports' 'générer un rapport' et sélectionner le modèle souhaité\n",
      "\n",
      "Index FAISS: 30 - Distance: 1.019120693206787\n",
      "UID: 430\n",
      "Logiciel: Agirh\n",
      "Problème: Impossible de télécharger un rapport\n",
      "Solution: Générez le rapport à nouveau et réessayez\n",
      "\n",
      "Index FAISS: 96 - Distance: 1.0611039400100708\n",
      "UID: 496\n",
      "Logiciel: SAP\n",
      "Problème: Agirh ne génère pas les rapports annuels\n",
      "Solution: Générez un rapport personnalisé via rhmc\n"
     ]
    }
   ],
   "source": [
    "query = \"Comment générer un rapport\"\n",
    "distances, indices = search(query, k=3)\n",
    "\n",
    "for idx, dist in zip(indices, distances):\n",
    "    print(f\"\\nIndex FAISS: {idx} - Distance: {dist}\")\n",
    "    \n",
    "    try:\n",
    "        entry = metadata[idx]\n",
    "        print(f\"UID: {entry['uid']}\")\n",
    "        print(f\"Logiciel: {entry['logiciel']}\")\n",
    "        print(f\"Problème: {entry['probleme']}\")\n",
    "        print(f\"Solution: {entry['solution']}\")\n",
    "    except IndexError:\n",
    "        print(\"⚠️ Index hors limites dans la liste de métadonnées.\")"
   ]
  },
  {
   "cell_type": "code",
   "execution_count": 6,
   "id": "08d839c3",
   "metadata": {},
   "outputs": [
    {
     "name": "stdout",
     "output_type": "stream",
     "text": [
      "Indices FAISS retournés : 29\n",
      "Indices disponibles dans metadata : [0, 1, 2, 3, 4, 5, 6, 7, 8, 9, 10, 11, 12, 13, 14, 15, 16, 17, 18, 19, 20, 21, 22, 23, 24, 25, 26, 27, 28, 29, 30, 31, 32, 33, 34, 35, 36, 37, 38, 39, 40, 41, 42, 43, 44, 45, 46, 47, 48, 49, 50, 51, 52, 53, 54, 55, 56, 57, 58, 59, 60, 61, 62, 63, 64, 65, 66, 67, 68, 69, 70, 71, 72, 73, 74, 75, 76, 77, 78, 79, 80, 81, 82, 83, 84, 85, 86, 87, 88, 89, 90, 91, 92, 93, 94, 95, 96, 97, 98, 99, 100, 101, 102, 103, 104, 105, 106, 107, 108, 109, 110, 111, 112, 113, 114, 115, 116, 117, 118, 119, 120, 121, 122, 123, 124, 125, 126, 127, 128, 129, 130, 131, 132, 133, 134, 135, 136, 137, 138, 139, 140, 141, 142, 143, 144, 145, 146, 147, 148, 149, 150, 151, 152, 153, 154, 155, 156, 157, 158, 159, 160, 161, 162, 163, 164, 165, 166, 167, 168, 169, 170, 171, 172, 173, 174, 175, 176, 177, 178, 179, 180, 181, 182, 183, 184, 185, 186, 187, 188, 189, 190, 191, 192, 193, 194, 195, 196, 197, 198, 199, 200, 201, 202, 203, 204, 205, 206, 207, 208, 209, 210, 211, 212, 213, 214, 215, 216, 217, 218, 219, 220, 221, 222, 223, 224, 225, 226, 227, 228, 229, 230, 231, 232, 233, 234, 235, 236, 237, 238, 239, 240, 241, 242, 243, 244, 245, 246, 247, 248, 249]\n"
     ]
    }
   ],
   "source": [
    "# Après FAISS search\n",
    "print(\"Indices FAISS retournés :\", indices[0])\n",
    "print(\"Indices disponibles dans metadata :\", sorted([item['id'] for item in metadata]))\n"
   ]
  }
 ],
 "metadata": {
  "kernelspec": {
   "display_name": ".venv",
   "language": "python",
   "name": "python3"
  },
  "language_info": {
   "codemirror_mode": {
    "name": "ipython",
    "version": 3
   },
   "file_extension": ".py",
   "mimetype": "text/x-python",
   "name": "python",
   "nbconvert_exporter": "python",
   "pygments_lexer": "ipython3",
   "version": "3.13.5"
  }
 },
 "nbformat": 4,
 "nbformat_minor": 5
}
